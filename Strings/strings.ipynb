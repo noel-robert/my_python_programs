{
 "cells": [
  {
   "cell_type": "code",
   "execution_count": null,
   "metadata": {},
   "outputs": [],
   "source": [
    "# Q1: Reverse a string\n",
    "\n",
    "str = \"Hello world\"\n",
    "\n",
    "newstr = str[::-1]\n",
    "print(newstr)\n"
   ]
  },
  {
   "cell_type": "code",
   "execution_count": null,
   "metadata": {},
   "outputs": [],
   "source": [
    "# Q2: reverse string without slicing\n",
    "\n",
    "str = \"Hello world\"\n",
    "\n",
    "newstr=\"\"\n",
    "for character in str:\n",
    "    newstr = character + newstr\n",
    "print(newstr)\n"
   ]
  },
  {
   "cell_type": "code",
   "execution_count": null,
   "metadata": {},
   "outputs": [],
   "source": [
    "# Q3: reverse without builtin or previous two approaches\n",
    "\n",
    "def reverse(str):\n",
    "    if len(str)==0: return str\n",
    "    return (reverse(str[1:]) + str[0])\n",
    "\n",
    "print(reverse(\"Hello World\"))\n"
   ]
  },
  {
   "cell_type": "code",
   "execution_count": null,
   "metadata": {},
   "outputs": [],
   "source": [
    "# Q4: input string from user, create list of string such that different letters are capitalized\n",
    "import time\n",
    "\n",
    "\n",
    "inputString = input(\"Enter a string: \")\n",
    "result = []\n",
    "\n",
    "for index in range(0, len(inputString)):\n",
    "    left = inputString[:index].lower()\n",
    "    right = inputString[index:].upper().capitalize()\n",
    "    left = left + right\n",
    "    result.append(left)\n",
    "\n",
    "for item in result:\n",
    "    print(item)\n",
    "    time.sleep(1)\n"
   ]
  },
  {
   "cell_type": "code",
   "execution_count": null,
   "metadata": {},
   "outputs": [],
   "source": [
    "# splitting a sentence into words\n",
    "\n",
    "name = \"Martin Luther King\"\n",
    "print(name.split())\n"
   ]
  },
  {
   "cell_type": "code",
   "execution_count": null,
   "metadata": {},
   "outputs": [],
   "source": [
    "# printing letter-by-letter\n",
    "\n",
    "print(list(name), end=' ')\n"
   ]
  }
 ],
 "metadata": {
  "language_info": {
   "name": "python"
  }
 },
 "nbformat": 4,
 "nbformat_minor": 2
}
