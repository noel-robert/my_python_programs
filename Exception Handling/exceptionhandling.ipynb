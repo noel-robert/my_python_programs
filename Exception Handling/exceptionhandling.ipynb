{
 "cells": [
  {
   "cell_type": "code",
   "execution_count": null,
   "metadata": {},
   "outputs": [],
   "source": [
    "''' \n",
    "Question: division by zero handle exception by\n",
    "- fail silently\n",
    "- return error value\n",
    "- stop execution by raising Exception\n",
    "'''"
   ]
  },
  {
   "cell_type": "code",
   "execution_count": null,
   "metadata": {},
   "outputs": [],
   "source": [
    "# fail silently\n",
    "def division(a, b):\n",
    "    '''function returns an answer only if denominator is non-zero'''\n",
    "    if b != 0:\n",
    "        return a / b\n",
    "    \n",
    "a = 5\n",
    "b = 0\n",
    "division(a, b)"
   ]
  },
  {
   "cell_type": "code",
   "execution_count": null,
   "metadata": {},
   "outputs": [],
   "source": [
    "# return error value\n",
    "def division(a, b):\n",
    "    '''function returns a default string if denominator is zero, \n",
    "    else execution continues as usual'''\n",
    "    # if b == 0:\n",
    "    #     return \"--\"\n",
    "    # return a / b\n",
    "    assert b!= 0, \"Not A Number\"\n",
    "    return a / b\n",
    "\n",
    "a = 5\n",
    "b = 0\n",
    "division(a, b)"
   ]
  },
  {
   "cell_type": "code",
   "execution_count": null,
   "metadata": {},
   "outputs": [],
   "source": [
    "# raising exception\n",
    "def division(a, b):\n",
    "    '''try-catch block catches exceptions occurred during operations'''\n",
    "    try:\n",
    "        res = a/b\n",
    "        return res\n",
    "    except ZeroDivisionError:   \n",
    "        print(\"Attempted division by zero\")\n",
    "    except Exception as e:\n",
    "        print(e)\n",
    "    \n",
    "a = 5\n",
    "b = 0\n",
    "division(a, b)"
   ]
  }
 ],
 "metadata": {
  "language_info": {
   "name": "python"
  }
 },
 "nbformat": 4,
 "nbformat_minor": 2
}
