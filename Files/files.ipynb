{
 "cells": [
  {
   "cell_type": "code",
   "execution_count": null,
   "metadata": {},
   "outputs": [],
   "source": [
    "# opening a file\n",
    "filehandler = open(\"file.txt\", 'r')\n"
   ]
  },
  {
   "cell_type": "code",
   "execution_count": null,
   "metadata": {},
   "outputs": [],
   "source": [
    "# read complete file\n",
    "filehandler.read()\n"
   ]
  },
  {
   "cell_type": "code",
   "execution_count": null,
   "metadata": {},
   "outputs": [],
   "source": [
    "# read line-by-line\n",
    "filehandler.readlines()\n"
   ]
  },
  {
   "cell_type": "code",
   "execution_count": null,
   "metadata": {},
   "outputs": [],
   "source": [
    "'''\n",
    "create a csv file of students\n",
    "create list of dictionary for each student\n",
    "'''\n",
    "\n",
    "studentList = []\n",
    "\n",
    "with open(r'students.csv', 'r') as file:\n",
    "    lines = file.readlines()\n",
    "\n",
    "    keylist = lines[0].strip().split(',')\n",
    "\n",
    "    for index in range(1, len(lines)):\n",
    "        itemList = lines[index].strip().split(',')\n",
    "        studentDict = {keylist[i]: itemList[i] for i in range(0, len(keylist))}\n",
    "        studentList.append(studentDict)\n",
    "\n",
    "\n",
    "for item in studentList:\n",
    "    print(item)\n"
   ]
  },
  {
   "cell_type": "code",
   "execution_count": null,
   "metadata": {},
   "outputs": [],
   "source": [
    "# JSON parsing and dumping\n",
    "\n",
    "import json\n",
    "with open(r'64KB.json', 'r') as file:\n",
    "    data = json.load(file)\n",
    "\n",
    "with open(r'dump_data.json', 'w') as file:\n",
    "    json.dump(data, file, indent=4)\n"
   ]
  },
  {
   "cell_type": "code",
   "execution_count": null,
   "metadata": {},
   "outputs": [],
   "source": [
    "# dunping student details obtained from earlier CSV file into JSON file \n",
    "\n",
    "with open(r'student_data.json', 'w') as file:\n",
    "    json.dump(studentList, file, indent=2)\n"
   ]
  },
  {
   "cell_type": "code",
   "execution_count": null,
   "metadata": {},
   "outputs": [],
   "source": [
    "'''100west.txt\n",
    "1. read the file\n",
    "1.1 remove punctuations\n",
    "2. get a count of all words present in the file in a dictionary format\n",
    "3. convert dictionary into json format and dump into a file\n",
    "'''\n",
    "\n",
    "\n",
    "import json\n",
    "\n",
    "def readFile(filePath):\n",
    "    '''opens file presint in filePath and returns text inside it'''\n",
    "    with open(filePath, 'r') as file:\n",
    "        return file.read()\n",
    "    \n",
    "def processText(text):\n",
    "    '''remove punctuations'''\n",
    "    lst = [',', '.', ';', ':', '?', '!', '\\\"']\n",
    "    for char in lst:\n",
    "        text = text.replace(char, ' ')\n",
    "    return text.lower()\n",
    "\n",
    "def getWordFrequency(text):\n",
    "    '''returns a dictionary of all word frequency'''\n",
    "    words = text.split()\n",
    "    wordFrequency = {}\n",
    "    for word in words:\n",
    "        if word in wordFrequency.keys():\n",
    "            wordFrequency[word] += 1\n",
    "        else:\n",
    "            wordFrequency[word] = 1\n",
    "    return wordFrequency\n",
    "\n",
    "def dumpToJsonFile(data, outputFilePath):\n",
    "    '''dump contents of dictionary data to givem filepath'''\n",
    "    with open(outputFilePath, 'w') as file:\n",
    "        json.dump(data, file, indent=4)\n",
    "\n",
    "\n",
    "\n",
    "\n",
    "# save path of file here\n",
    "filePath = r'100west.txt'\n",
    "\n",
    "# get all text within the file\n",
    "file_text = readFile(filePath)\n",
    "\n",
    "# process text to remove all punctuations\n",
    "file_processed = processText(file_text)\n",
    "\n",
    "# get dictionary of word frequencies\n",
    "file_wordFrequency = getWordFrequency(file_processed)\n",
    "\n",
    "# dump data to a json file\n",
    "dumpToJsonFile(file_wordFrequency, r'output_file.json')\n"
   ]
  }
 ],
 "metadata": {
  "language_info": {
   "name": "python"
  }
 },
 "nbformat": 4,
 "nbformat_minor": 2
}
