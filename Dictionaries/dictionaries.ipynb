{
 "cells": [
  {
   "cell_type": "code",
   "execution_count": null,
   "metadata": {},
   "outputs": [],
   "source": [
    "'''\n",
    "Q1:\n",
    "dictionary representing products, \n",
    "filter out those with price higher than threshold.\n",
    "transform remaining data to get just names \n",
    "using filter and map only\n",
    "'''\n",
    "\n",
    "products = [\n",
    "    {'name': 'laptop', 'price': 10000},\n",
    "    {'name': 'keyboard', 'price': 50},\n",
    "    {'name': 'mouse', 'price': 200},\n",
    "    {'name': 'monitor', 'price': 2000}\n",
    "]\n",
    "\n",
    "price_threshold = int(input(\"Enter threshold price: \"))\n",
    "\n",
    "# used to find products with price lower than threshold\n",
    "def isBelowThreshold(inp):\n",
    "    if inp['price'] <= price_threshold:\n",
    "        return True\n",
    "    \n",
    "# used to extract only name of product\n",
    "def getNameOnly(inp):\n",
    "    return inp['name']\n",
    "    \n",
    "print(list(map(getNameOnly, filter(isBelowThreshold, products))))\n",
    "\n",
    "\n",
    "# TODO: can be improvd my using lambdas\n"
   ]
  },
  {
   "cell_type": "code",
   "execution_count": null,
   "metadata": {},
   "outputs": [],
   "source": [
    "'''\n",
    "Q2: compute moving average\n",
    "given list of integers, compute moving avg of last 'N' elements\n",
    "for each element using reduce()\n",
    "use reduce, list comprehension, lambda\n",
    "'''\n",
    "\n",
    "from functools import reduce\n",
    "\n",
    "\n",
    "int_list = [x for x in range(1, 11)]\n",
    "N = int(input(\"Enter window size[N]: \"))\n",
    "\n",
    "# process 1: below code produces different subsets, take last window from those lists\n",
    "# moving_averages = [int_list[0:i+1] for i in range(0, len(int_list))]\n",
    "# print(moving_averages)\n",
    "\n",
    "# process 2: this now applies window on those lists, now need to find their average\n",
    "# moving_averages = [int_list[0:i+1][-N:] for i in range(0, len(int_list))]\n",
    "# print(moving_averages)\n",
    "\n",
    "# process 3:\n",
    "# TODO[done]: find average of elements in int_list[0:i+1][-N:]\n",
    "moving_averages = [reduce(lambda a,b:a+b , int_list[0:i+1][-N:])/len(int_list[0:i+1][-N:]) for i in range(0, len(int_list))]\n",
    "print(f\"Moving average for the list is: {moving_averages}\")\n"
   ]
  }
 ],
 "metadata": {
  "language_info": {
   "name": "python"
  }
 },
 "nbformat": 4,
 "nbformat_minor": 2
}
