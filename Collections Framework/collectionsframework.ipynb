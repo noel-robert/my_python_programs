{
 "cells": [
  {
   "cell_type": "code",
   "execution_count": null,
   "metadata": {},
   "outputs": [],
   "source": [
    "'''Counter'''\n",
    "\n",
    "from collections import Counter\n",
    "my_list = list('sea sells sea shells on the sea shore')\n",
    "count = Counter(my_list)\n",
    "print(count)\n"
   ]
  },
  {
   "cell_type": "code",
   "execution_count": null,
   "metadata": {},
   "outputs": [],
   "source": [
    "'''Named Tuple'''\n",
    "from collections import namedtuple\n",
    "\n",
    "Constant = namedtuple('Constants', ['alpha', 'beta'])\n",
    "\n",
    "c = Constant(2, 3)\n",
    "print(f\"c.alpha: {c.alpha}\")\n",
    "print(f\"c.beta: {c.beta}\")\n"
   ]
  },
  {
   "cell_type": "code",
   "execution_count": null,
   "metadata": {},
   "outputs": [],
   "source": [
    "'''double ended queue'''\n",
    "\n",
    "from collections import deque\n",
    "\n",
    "d = deque([1, 2, 3, 4, 5])\n",
    "\n",
    "d.append(6)\n",
    "print(f\"after using d.append(6): {d}\")\n",
    "\n",
    "d.appendleft(0)\n",
    "print(f\"after using d.appendleft(0): {d}\")\n",
    "\n",
    "d.pop()\n",
    "print(f\"after using d.pop(): {d}\")\n",
    "\n",
    "d.popleft()\n",
    "print(f\"after using d.popleft(): {d}\")\n",
    "\n",
    "# print(d[0])\n"
   ]
  },
  {
   "cell_type": "code",
   "execution_count": null,
   "metadata": {},
   "outputs": [],
   "source": [
    "'''\n",
    "question:\n",
    "create a named tuple representing a point with x and y coordinates\n",
    "implement a function to calculate the euclidean distance between two points\n",
    "'''\n",
    "\n",
    "\n",
    "from collections import namedtuple\n",
    "import math\n",
    "\n",
    "# we create a named tuple 'Point' having fields 'x_coordinate' and 'y_coordinate'\n",
    "Point = namedtuple('Point', ['x_coordinate', 'y_coordinate'])\n",
    "\n",
    "def euclideanDistance(point1, point2):\n",
    "  ''' function accepts two points and returns the euclidean distance between them '''\n",
    "  return math.sqrt((point2.x_coordinate - point1.x_coordinate)**2 + (point2.y_coordinate - point1.y_coordinate)**2)\n",
    "\n",
    "point1 = Point(1, 2)\n",
    "point2 = Point(4, 6)\n",
    "\n",
    "print(f\"Euclidean Distance between Point1({point1.x_coordinate}, {point1.y_coordinate}) and Point2({point2.x_coordinate}, {point2.y_coordinate}) is {euclideanDistance(point1, point2)}\")"
   ]
  },
  {
   "cell_type": "code",
   "execution_count": null,
   "metadata": {},
   "outputs": [],
   "source": [
    "'''\n",
    "question:\n",
    "create a class called Coordinate\n",
    "- it should be able to calculate distance between two coordinates\n",
    "- handle user input errors\n",
    "- distance of coordinate from origin\n",
    "'''\n",
    "\n",
    "\n",
    "class Coordinate:\n",
    "  def __init__(self, x, y):\n",
    "    ''' constructor for class Coordinate where coordinates are assigned '''\n",
    "    self.x = float(x)\n",
    "    self.y = float(y)\n",
    "\n",
    "  def euclideanDistance(point1, point2):\n",
    "    ''' function accepts coordinates of two points as input and returns the euclidean distance between them '''\n",
    "    return math.sqrt((point2.x - point1.x)**2 + (point2.y - point1.y)**2)\n",
    "\n",
    "  def distanceFromOrigin(self):\n",
    "    ''' function takes a point's coordinates as input and returns the distance from origin to that point '''\n",
    "    return math.sqrt(self.x**2 + self.y**2)\n",
    "\n",
    "\n",
    "try:\n",
    "  point1 = Coordinate(3, 4)\n",
    "  print(f\"Distance from origin to Point1({point1.x}, {point1.y}) is {point1.distanceFromOrigin()}\")\n",
    "\n",
    "  point2 = Coordinate(0, 0)\n",
    "  print(f\"Euclidean Distance between Point1({point1.x}, {point1.y}) and Point2({point2.x}, {point2.y}) is {point1.euclideanDistance(point2)}\")\n",
    "except ValueError:\n",
    "  print('Invalid input, check your coordinate values again')"
   ]
  },
  {
   "cell_type": "code",
   "execution_count": null,
   "metadata": {},
   "outputs": [],
   "source": [
    "# enumerate()\n",
    "\n",
    "my_list = ['a', 'b', 'c', 'd']\n",
    "my_enum = enumerate(my_list)\n",
    "print(list(my_enum))\n",
    "\n",
    "my_enum = enumerate(my_list, start=200)\n",
    "print(list(my_enum))"
   ]
  },
  {
   "cell_type": "code",
   "execution_count": null,
   "metadata": {},
   "outputs": [],
   "source": [
    "# create a dictionary from two given lists 'keys' and 'values' using enumerate()\n",
    "\n",
    "keys = ['a', 'b', 'c']\n",
    "values = [1, 2, 3]\n",
    "\n",
    "my_dict = {key: values[index] for index, key in enumerate(keys)}\n",
    "print(my_dict)"
   ]
  }
 ],
 "metadata": {
  "language_info": {
   "name": "python"
  }
 },
 "nbformat": 4,
 "nbformat_minor": 2
}
