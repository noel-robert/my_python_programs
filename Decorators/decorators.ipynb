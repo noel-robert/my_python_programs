{
 "cells": [
  {
   "cell_type": "code",
   "execution_count": null,
   "metadata": {},
   "outputs": [],
   "source": [
    "# Pass Function as Argument\n",
    "def add(x, y):\n",
    "  return x+y\n",
    "\n",
    "def calculate(func, x, y):\n",
    "  return func(x, y)\n",
    "\n",
    "result = calculate(add, 4, 6)\n",
    "print(result)"
   ]
  },
  {
   "cell_type": "code",
   "execution_count": null,
   "metadata": {},
   "outputs": [],
   "source": [
    "# Return function as value\n",
    "def greeting(name):\n",
    "  def hello():\n",
    "    return 'Hello, ' + name + '!'\n",
    "  return hello\n",
    "\n",
    "greet = greeting('Atlantis')\n",
    "print(greet())"
   ]
  },
  {
   "cell_type": "code",
   "execution_count": null,
   "metadata": {},
   "outputs": [],
   "source": [
    "from pickle import decode_long\n",
    "def make_pretty(func):\n",
    "  def inner():\n",
    "    print('I got decorated')\n",
    "    func()\n",
    "  return inner\n",
    "\n",
    "def ordinary():\n",
    "  print('I am ordinary')\n",
    "\n",
    "\n",
    "decorated_func = make_pretty(ordinary)\n",
    "decorated_func()"
   ]
  },
  {
   "cell_type": "code",
   "execution_count": null,
   "metadata": {},
   "outputs": [],
   "source": [
    "# above thing, using @ symbol [syntactic sugar]\n",
    "\n",
    "def make_pretty(func):\n",
    "  def inner():\n",
    "    print('I got decorated')\n",
    "    func()\n",
    "  return inner\n",
    "\n",
    "@make_pretty\n",
    "def ordinary():\n",
    "  print('I am ordinary')\n",
    "\n",
    "ordinary()\n"
   ]
  },
  {
   "cell_type": "code",
   "execution_count": null,
   "metadata": {},
   "outputs": [],
   "source": [
    "# functions taking in parameters\n",
    "\n",
    "def smart_divide(func):\n",
    "  def inner(a, b):\n",
    "    print(f\"I am going to divide {a} by {b}\")\n",
    "    if b == 0:\n",
    "      print('Oops, cannot divide by zero')\n",
    "      return\n",
    "    return func(a, b)\n",
    "  return inner\n",
    "\n",
    "@smart_divide\n",
    "def divide(a, b):\n",
    "  print(a/b)\n",
    "\n",
    "divide(2,5)\n",
    "divide(2,0)"
   ]
  },
  {
   "cell_type": "code",
   "execution_count": null,
   "metadata": {},
   "outputs": [],
   "source": [
    "# chaining decorators in python\n",
    "\n",
    "def star(func):\n",
    "  def inner(*args, **kwargs):\n",
    "    print('*' * 15)\n",
    "    func(*args, **kwargs)\n",
    "    print('*' * 15)\n",
    "  return inner\n",
    "\n",
    "def percent(func):\n",
    "  def inner(*args, **kwargs):\n",
    "    print('%' * 15)\n",
    "    func(*args, **kwargs)\n",
    "    print('%' * 15)\n",
    "  return inner\n",
    "\n",
    "@star\n",
    "@percent\n",
    "def printer(msg):\n",
    "  print(msg)\n",
    "\n",
    "printer('Hello')"
   ]
  }
 ],
 "metadata": {
  "language_info": {
   "name": "python"
  }
 },
 "nbformat": 4,
 "nbformat_minor": 2
}
