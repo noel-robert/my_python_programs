{
 "cells": [
  {
   "cell_type": "code",
   "execution_count": null,
   "metadata": {},
   "outputs": [],
   "source": [
    "# required module\n",
    "\n",
    "import requests"
   ]
  },
  {
   "cell_type": "code",
   "execution_count": null,
   "metadata": {},
   "outputs": [],
   "source": [
    "# connecting to API endpoint\n",
    "\n",
    "response = requests.get('https://example.com/')"
   ]
  },
  {
   "cell_type": "code",
   "execution_count": null,
   "metadata": {},
   "outputs": [],
   "source": [
    "# printing status code\n",
    "\n",
    "print(response.status_code)"
   ]
  },
  {
   "cell_type": "code",
   "execution_count": null,
   "metadata": {},
   "outputs": [],
   "source": [
    "# printing text part of response\n",
    "\n",
    "print(response.text)"
   ]
  },
  {
   "cell_type": "code",
   "execution_count": null,
   "metadata": {},
   "outputs": [],
   "source": [
    "# use regex to capture data in between <title></title> tags\n",
    "\n",
    "import re\n",
    "\n",
    "pattern = r'<title>.*</title>'\n",
    "result = re.findall(pattern, response.text)\n",
    "print(result)\n"
   ]
  },
  {
   "cell_type": "code",
   "execution_count": null,
   "metadata": {},
   "outputs": [],
   "source": [
    "# use numbers API\n",
    "\n",
    "url = r'http://numbersapi.com/random/year'\n",
    "response = requests.get(url)\n",
    "\n",
    "print(response.text)\n"
   ]
  },
  {
   "cell_type": "code",
   "execution_count": null,
   "metadata": {},
   "outputs": [],
   "source": [
    "# find out an api endpoint which will give you a random fact about an year.\n",
    "# Input an year from the user and call the api to spit out a random fact based on the inputted year from user.\n",
    "\n",
    "try:\n",
    "  # take year as input from user\n",
    "  input_year = int(input('Enter a year: '))\n",
    "\n",
    "  # creating fstring by merging input with API URL\n",
    "  url = f'http://numbersapi.com/{input_year}/year'\n",
    "  response = requests.get(url)\n",
    "\n",
    "  print(response.text)\n",
    "except ValueError:\n",
    "  print(\"Please recheck your input, year needs to be an integer [incase you didn't know :)]\")\n",
    "  "
   ]
  },
  {
   "cell_type": "code",
   "execution_count": null,
   "metadata": {},
   "outputs": [],
   "source": [
    "# finding just years, direct\n",
    "# TODO: this code needs improvement\n",
    "\n",
    "import requests\n",
    "import re\n",
    "\n",
    "# url for scraping data\n",
    "url = 'https://beckchris.com/history/the-55-most-important-events-in-human-history/'\n",
    "response = requests.get(url)\n",
    "\n",
    "# pattern = r'\\b\\d{2}/\\d{2}/\\d{4}\\b'\n",
    "pattern = r'\\b\\d{2}/\\d{2}/\\d{4}\\b.*\\n'\n",
    "result = re.findall(pattern, response.text)\n",
    "for item in result:\n",
    "  print(item)\n",
    "\n",
    "pattern = r'\\b\\d{2}/\\d{2}/\\d{4}\\b.*\\n'\n",
    "result = re.findall(pattern, response.text)\n",
    "for item in result:\n",
    "  print(item)"
   ]
  },
  {
   "cell_type": "code",
   "execution_count": null,
   "metadata": {},
   "outputs": [],
   "source": [
    "# only years, nothing else\n",
    "# variation of above program, gets just all the years\n",
    "\n",
    "import requests\n",
    "import re\n",
    "import json\n",
    "\n",
    "\n",
    "# url for scraping data\n",
    "url = 'https://beckchris.com/history/the-55-most-important-events-in-human-history/'\n",
    "response = requests.get(url)\n",
    "print(response.text)\n",
    "\n",
    "\n",
    "bce_years_pattern = re.compile(r'\\b\\d{2}/\\d{2}/\\d{4} BCE\\b')\n",
    "ce_years_pattern = re.compile(r'\\b\\d{2}/\\d{2}/\\d{4} CE\\b')\n",
    "just_years_pattern = re.compile(r'(\\d{3,4}:)')\n",
    "\n",
    "\n",
    "\n",
    "bce_years = bce_years_pattern.findall(response.text)\n",
    "ce_years = ce_years_pattern.findall(response.text)\n",
    "just_years = just_years_pattern.findall(response.text)\n",
    "\n",
    "print(bce_years)\n",
    "# print(ce_years)\n",
    "# print(just_years)"
   ]
  }
 ],
 "metadata": {
  "language_info": {
   "name": "python"
  }
 },
 "nbformat": 4,
 "nbformat_minor": 2
}
