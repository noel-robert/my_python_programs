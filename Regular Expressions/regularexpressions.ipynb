{
 "cells": [
  {
   "cell_type": "code",
   "execution_count": null,
   "metadata": {},
   "outputs": [],
   "source": [
    "import re\n",
    "\n",
    "def readFile(filePath):\n",
    "    '''opens file presint in filePath and returns text inside it'''\n",
    "    with open(filePath, 'r') as file:\n",
    "        return file.read()\n",
    "    \n",
    "\n",
    "regex = re.compile(r'this')\n",
    "\n",
    "# result = regex.search(\"Absolute Freedom is necessary\")\n",
    "# print(result)\n",
    "\n",
    "text = readFile(r\"100west.txt\")\n",
    "result = regex.finditer(text)\n",
    "for item in result:\n",
    "    print(item.group())"
   ]
  },
  {
   "cell_type": "code",
   "execution_count": null,
   "metadata": {},
   "outputs": [],
   "source": [
    "# question: extract digits from a string\n",
    "\n",
    "import re\n",
    "\n",
    "regex = re.compile(r'[0-9]+') # or use r'\\d+'\n",
    "input = 'My phone number is 125896537'\n",
    "\n",
    "print(regex.findall(input))"
   ]
  },
  {
   "cell_type": "code",
   "execution_count": null,
   "metadata": {},
   "outputs": [],
   "source": [
    "# question: match specific word\n",
    "import re\n",
    "\n",
    "match_string = r\"\\bPython\\b\" # \\b is to match start or end only\n",
    "input_string = r\"I love Python programming, montyPython! Python! Python!\"\n",
    "regex = re.compile(match_string)\n",
    "\n",
    "print(regex.findall(input_string))"
   ]
  },
  {
   "cell_type": "code",
   "execution_count": null,
   "metadata": {},
   "outputs": [],
   "source": [
    "# extract dates from text\n",
    "\n",
    "import re\n",
    "\n",
    "input_string = \"I love Python programming, this is as of 06/08/2024\"\n",
    "pattern_string = r'\\b\\d{2}/\\d{2}/\\d{4}\\b'\n",
    "print(re.findall(pattern_string, input_string))\n"
   ]
  }
 ],
 "metadata": {
  "language_info": {
   "name": "python"
  }
 },
 "nbformat": 4,
 "nbformat_minor": 2
}
