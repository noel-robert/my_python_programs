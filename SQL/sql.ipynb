{
 "cells": [
  {
   "cell_type": "code",
   "execution_count": null,
   "metadata": {},
   "outputs": [],
   "source": [
    "# connecting to database\n",
    "\n",
    "import sqlite3\n",
    "\n",
    "conn = sqlite3.connect('Chinook_Sqlite.sqlite')\n",
    "'''\n",
    "datasource:\n",
    "https://github.com/lerocha/chinook-database/blob/master/ChinookDatabase/DataSources/Chinook_Sqlite.sqlite\n",
    "'''"
   ]
  },
  {
   "cell_type": "code",
   "execution_count": null,
   "metadata": {},
   "outputs": [],
   "source": [
    "# creating cursor\n",
    "\n",
    "cursor = conn.cursor()"
   ]
  },
  {
   "cell_type": "code",
   "execution_count": null,
   "metadata": {},
   "outputs": [],
   "source": [
    "cursor.execute(\"SELECT name FROM sqlite_master WHERE type='table';\")"
   ]
  },
  {
   "cell_type": "code",
   "execution_count": null,
   "metadata": {},
   "outputs": [],
   "source": [
    "# different tables in the database\n",
    "\n",
    "tables = cursor.fetchall()\n",
    "print(tables)"
   ]
  },
  {
   "cell_type": "code",
   "execution_count": null,
   "metadata": {},
   "outputs": [],
   "source": [
    "# print data from Album table\n",
    "\n",
    "table_name = 'Album'\n",
    "cursor.execute(f'SELECT * FROM {table_name};')\n",
    "album_data = cursor.fetchall()\n",
    "print(album_data)\n",
    "print('\\n')\n",
    "col_names = [description[0] for description in cursor.description]\n",
    "print(col_names)"
   ]
  },
  {
   "cell_type": "code",
   "execution_count": null,
   "metadata": {},
   "outputs": [],
   "source": [
    "'''get name of each table along with their columns'''\n",
    "for table in tables:\n",
    "    table_name = table[0]\n",
    "    print(f'Table name: {table_name}')\n",
    "    cursor.execute(f'SELECT * FROM {table_name};')\n",
    "    col_names = [description[0] for description in cursor.description]\n",
    "    print(col_names)\n",
    "    print('\\n')\n"
   ]
  },
  {
   "cell_type": "code",
   "execution_count": null,
   "metadata": {},
   "outputs": [],
   "source": [
    "'''select all customers who are from USA'''\n",
    "\n",
    "cursor.execute(f\"\"\"\n",
    "SELECT *\n",
    "FROM Customer\n",
    "WHERE Country = \"USA\";\n",
    "\"\"\")\n",
    "customersFromUSA = cursor.fetchall()\n",
    "\n",
    "col_names = [description[0] for description in cursor.description]\n",
    "print(col_names)\n",
    "for customer in customersFromUSA:\n",
    "    print(customer)"
   ]
  },
  {
   "cell_type": "code",
   "execution_count": null,
   "metadata": {},
   "outputs": [],
   "source": [
    "'''select firstname and lastname from customers'''\n",
    "\n",
    "cursor.execute(f\"\"\"\n",
    "SELECT FirstName, LastName\n",
    "FROM Customer;\n",
    "\"\"\")\n",
    "customersFirstAndLastNames = cursor.fetchall()\n",
    "\n",
    "col_names = [description[0] for description in cursor.description]\n",
    "print(col_names)\n",
    "for customer in customersFirstAndLastNames:\n",
    "    print(customer)"
   ]
  },
  {
   "cell_type": "code",
   "execution_count": null,
   "metadata": {},
   "outputs": [],
   "source": [
    "'''select all company from customers where country is USA'''\n",
    "\n",
    "cursor.execute(\"\"\"\n",
    "SELECT Company\n",
    "FROM Customer\n",
    "WHERE Country = \"USA\";\n",
    "\"\"\")\n",
    "companiesWithCustomersFromUSA = cursor.fetchall()\n",
    "\n",
    "col_names = [description[0] for description in cursor.description]\n",
    "print(col_names)\n",
    "for customer in companiesWithCustomersFromUSA:\n",
    "    print(customer)"
   ]
  },
  {
   "cell_type": "code",
   "execution_count": null,
   "metadata": {},
   "outputs": [],
   "source": [
    "'''retreive names of all tracks along with their album titles'''\n",
    "\n",
    "cursor.execute(\"\"\"\n",
    "SELECT Track.Name, Album.Title\n",
    "FROM Album, Track\n",
    "WHERE Track.AlbumId=Album.AlbumId;\n",
    "\"\"\")\n",
    "tracksAndAlbumTitles = cursor.fetchall()\n",
    "\n",
    "col_names = [description[0] for description in cursor.description]\n",
    "print(col_names)\n",
    "for track in tracksAndAlbumTitles:\n",
    "    print(track)\n",
    "    "
   ]
  },
  {
   "cell_type": "code",
   "execution_count": null,
   "metadata": {},
   "outputs": [],
   "source": [
    "'''Retreive names of customer who purchased the album \"Let There Be Rock\"'''\n",
    "\n",
    "cursor.execute(\"\"\"\n",
    "SELECT Customer.FirstName, Customer.LastName\n",
    "FROM Customer, Invoice, InvoiceLine, Track, Album\n",
    "WHERE Customer.CustomerId = Invoice.CustomerId\n",
    "AND Invoice.InvoiceId = InvoiceLine.InvoiceId\n",
    "AND InvoiceLine.TrackId = Track.TrackId\n",
    "AND Track.AlbumId = Album.AlbumId\n",
    "AND Album.Title = \"Let There Be Rock\"\n",
    "\"\"\")\n",
    "\n",
    "customersWhoPurchasedLetThereBeRock = cursor.fetchall()\n",
    "\n",
    "col_names = [description[0] for description in cursor.description]\n",
    "print(col_names)\n",
    "for customer in customersWhoPurchasedLetThereBeRock:\n",
    "    print(customer)\n",
    "\n",
    "\n",
    "\n",
    "'''\n",
    "the above code utilized crooss-product which becomes ineffcient for bigger tables\n",
    "thus use JOIN to get improved perfomance\n",
    "'''"
   ]
  },
  {
   "cell_type": "code",
   "execution_count": null,
   "metadata": {},
   "outputs": [],
   "source": [
    "'''each country has how many customers?'''\n",
    "\n",
    "cursor.execute(\"\"\"\n",
    "SELECT Country, COUNT(*)\n",
    "FROM Customer\n",
    "GROUP BY Country\n",
    "\"\"\")\n",
    "\n",
    "customerCountByCountry = cursor.fetchall()\n",
    "\n",
    "col_names = [description[0] for description in cursor.description]\n",
    "print(col_names)\n",
    "for country in customerCountByCountry:\n",
    "    print(country)"
   ]
  },
  {
   "cell_type": "code",
   "execution_count": null,
   "metadata": {},
   "outputs": [],
   "source": [
    "'''find most expensive track'''\n",
    "\n",
    "cursor.execute(\"\"\"\n",
    "SELECT TrackId, Name, MAX(UnitPrice)\n",
    "FROM Track\n",
    "\"\"\")\n",
    "\n",
    "mostExpensiveTrack = cursor.fetchall()\n",
    "\n",
    "col_names =[description[0] for description in cursor.description]\n",
    "print(col_names)\n",
    "for track in mostExpensiveTrack:\n",
    "    print(track)\n",
    "\n",
    "\n",
    "# alternate way, by using ORDER BY\n",
    "# cursor.execute(\"\"\"\n",
    "# SELECT TrackId, Name, UnitPrice\n",
    "# FROM Track\n",
    "# ORDER BY UnitPrice DESC\n",
    "# \"\"\")"
   ]
  },
  {
   "cell_type": "code",
   "execution_count": null,
   "metadata": {},
   "outputs": [],
   "source": [
    "'''count number of tracks in each Genre'''\n",
    "\n",
    "cursor.execute(\"\"\"\n",
    "SELECT Genre.name, COUNT(Track.TrackId)\n",
    "FROM Genre\n",
    "JOIN Track ON Genre.GenreId = Track.GenreId\n",
    "GROUP BY Genre.name\n",
    "\"\"\")\n",
    "\n",
    "trackCountByGenre = cursor.fetchall()\n",
    "\n",
    "col_names = [description[0] for description in cursor.description]\n",
    "print(col_names)\n",
    "for genre in trackCountByGenre:\n",
    "    print(genre)"
   ]
  },
  {
   "cell_type": "code",
   "execution_count": null,
   "metadata": {},
   "outputs": [],
   "source": [
    "'''find artists with more that one album'''\n",
    "\n",
    "cursor.execute(\"\"\"\n",
    "SELECT Artist.Name AS ArtistName, COUNT(Album.\"AlbumId\")\n",
    "FROM Artist\n",
    "JOIN Album ON Artist.\"ArtistId\" = Album.\"ArtistId\"\n",
    "GROUP BY Artist.\"Name\"\n",
    "HAVING COUNT(Album.AlbumId) > 1\n",
    "\"\"\")\n",
    "\n",
    "artistsWithMoreThanOneAlbum = cursor.fetchall()\n",
    "col_names = [description[0] for description in cursor.description]\n",
    "print(col_names)\n",
    "for artist in artistsWithMoreThanOneAlbum:\n",
    "  print(artist)"
   ]
  },
  {
   "cell_type": "code",
   "execution_count": null,
   "metadata": {},
   "outputs": [],
   "source": [
    "'''calculate average invoice total'''\n",
    "\n",
    "cursor.execute(\"\"\"\n",
    "SELECT AVG(Total)\n",
    "FROM Invoice\n",
    "\"\"\")\n",
    "\n",
    "averageInvoiceTotal = cursor.fetchall()\n",
    "col_names = [description[0] for description in cursor.description]\n",
    "print(col_names)\n",
    "for total in averageInvoiceTotal:\n",
    "  print(total)"
   ]
  }
 ],
 "metadata": {
  "language_info": {
   "name": "python"
  }
 },
 "nbformat": 4,
 "nbformat_minor": 2
}
